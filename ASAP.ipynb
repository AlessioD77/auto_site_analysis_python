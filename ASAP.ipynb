{
 "cells": [
  {
   "cell_type": "markdown",
   "metadata": {
    "id": "MIIhx6qgvfUp"
   },
   "source": [
    "Library to be used with pandas"
   ]
  },
  {
   "cell_type": "code",
   "execution_count": null,
   "metadata": {
    "colab": {
     "base_uri": "https://localhost:8080/"
    },
    "id": "8bGuNtjbtXtJ",
    "outputId": "2d11fefe-c3c4-4889-aa63-24dd38fa341f"
   },
   "outputs": [],
   "source": [
    "#required so that pandas can work with excel file easily\n",
    "!pip install xlsxwriter"
   ]
  },
  {
   "cell_type": "markdown",
   "metadata": {
    "id": "sEJXKzufwBUL"
   },
   "source": [
    "Group Based on the Sequence (Temp.xlsx)"
   ]
  },
  {
   "cell_type": "code",
   "execution_count": 2,
   "metadata": {
    "colab": {
     "base_uri": "https://localhost:8080/"
    },
    "id": "7i4NL6QNpwjE",
    "outputId": "c8517833-0977-4f83-b778-5f4e2b04a873"
   },
   "outputs": [
    {
     "name": "stdout",
     "output_type": "stream",
     "text": [
      "Completed\n"
     ]
    }
   ],
   "source": [
    "import pandas as pd\r\n",
    "\r\n",
    "df=pd.read_csv(\"wt8c.csv\")\r\n",
    "df = df[['Start\\r\\nAA', 'End\\r\\nAA', 'Var. Pos.\\r\\nProtein', 'Sequence',\r\n",
    "       'Glycans', 'Validate', 'Score', 'XIC area\\r\\nsummed']]\r\n",
    "\r\n",
    "df['Sequence']=df['Sequence'].str.upper()                                                               # making sequence words into upper case so grouping is easier - Unoccupied glycans do not have lower case N so this allows occ and unocc glycans to be grouped together\r\n",
    "\r\n",
    "df2=pd.DataFrame()\r\n",
    "uni_col=df['Sequence'].unique()                                                                         # finding the unique sequences and save as variable uni_col\r\n",
    "columns=df.columns                                                                                      # getting the column name for the order when exporting file\r\n",
    "writer = pd.ExcelWriter(\"Temp.xlsx\", engine = 'xlsxwriter') #making file to write in\r\n",
    "\r\n",
    "#loop over unquie column names,find in sheet and write into new file\r\n",
    "for col in uni_col:\r\n",
    "    found_df=df[df['Sequence'] == col] #matching based on the column name to get rows\r\n",
    "    found_df[columns].to_excel(writer,sheet_name=col,index=False)\r\n",
    "writer.save()\r\n",
    "writer.close()\r\n",
    "print(\"Completed\")"
   ]
  },
  {
   "cell_type": "code",
   "execution_count": null,
   "metadata": {},
   "outputs": [],
   "source": [
    "columns\r\n",
    "\r\n",
    "#print(range(1, len(df['Sequence'].unique())))"
   ]
  },
  {
   "cell_type": "markdown",
   "metadata": {
    "id": "rXQPfBZguK9l"
   },
   "source": [
    "Calculating the percentage (Temp-2.xlsx)"
   ]
  },
  {
   "cell_type": "code",
   "execution_count": null,
   "metadata": {
    "colab": {
     "base_uri": "https://localhost:8080/"
    },
    "id": "OIo7HGo8twMz",
    "outputId": "68d3d279-29b4-4f3e-fe05-a0da78f3a167"
   },
   "outputs": [],
   "source": [
    "import pandas as pd\n",
    "raw_df=pd.ExcelFile(\"Temp.xlsx\")\n",
    "sheet_names=raw_df.sheet_names #getting sheetnames so i go over each sheet\n",
    "writer = pd.ExcelWriter(\"Temp-2.xlsx\", engine = 'xlsxwriter')\n",
    "\n",
    "for sheet_name in sheet_names:\n",
    "    print(sheet_name)\n",
    "    df=pd.read_excel(\"Temp.xlsx\",sheet_name=sheet_name)\n",
    "    total=df['XIC area_x000D_\\nsummed'].sum() #getting the total of the XIC area\n",
    "\n",
    "    #going over each value of XIC and finding the percentage\n",
    "    for i,rows in df.iterrows():\n",
    "        df.at[i,'Percentage']=round((rows['XIC area_x000D_\\nsummed']/total)*100,2)\n",
    "    df.to_excel(writer,sheet_name=sheet_name,index=False)\n",
    "\n",
    "writer.save()\n",
    "writer.close()\n",
    "print(\"Completed\")"
   ]
  },
  {
   "cell_type": "markdown",
   "metadata": {
    "id": "3BcOmDka3Res"
   },
   "source": [
    "Finding the classication (Temp-3.xlsx)"
   ]
  },
  {
   "cell_type": "code",
   "execution_count": null,
   "metadata": {
    "colab": {
     "base_uri": "https://localhost:8080/"
    },
    "id": "6Zlut_DiSFv9",
    "outputId": "fe5ac586-9b3a-438e-9a55-7953cb889ff6"
   },
   "outputs": [],
   "source": [
    "import pandas as pd\n",
    "raw_df=pd.ExcelFile(\"Temp-2.xlsx\")\n",
    "classification_df=pd.read_csv(\"Glycan_s.csv\")\n",
    "sheet_names=raw_df.sheet_names\n",
    "writer = pd.ExcelWriter(\"Temp-3.xlsx\", engine = 'xlsxwriter')\n",
    "\n",
    "for sheet_name in sheet_names:\n",
    "    print(sheet_name)\n",
    "    df=pd.read_excel(\"Temp-2.xlsx\",sheet_name=sheet_name)\n",
    "\n",
    "    #for each row i try to find the matched Gylcan in the Glycan_s file\n",
    "    for i,rows in df.iterrows():\n",
    "        print(rows['Glycans'])\n",
    "        #here is where the main work starts to find the right classfication\n",
    "        class_name=classification_df[classification_df['Glycans'] == rows['Glycans']]\n",
    "        print(class_name['Species'])\n",
    "        #then its just a matter of assigning the values\n",
    "        try:\n",
    "          df.at[i,'Classification']=class_name.iloc[0]['Species']\n",
    "        except:\n",
    "          df.at[i,'Classification']='Unoccupied'\n",
    "          # continue\n",
    "    df.to_excel(writer,sheet_name=sheet_name,index=False)\n",
    "writer.save()\n",
    "writer.close()\n",
    "print(\"Completed\")"
   ]
  },
  {
   "cell_type": "markdown",
   "metadata": {
    "id": "UN0P2mLQ3zSS"
   },
   "source": [
    "Calculating Values like M8 (Temp-4.xlsx)"
   ]
  },
  {
   "cell_type": "code",
   "execution_count": null,
   "metadata": {
    "colab": {
     "base_uri": "https://localhost:8080/"
    },
    "id": "56o84sxeYlRQ",
    "outputId": "d8f584f3-3847-4b9d-f4d3-1ce81dac8472"
   },
   "outputs": [],
   "source": [
    "import pandas as pd\n",
    "raw_df=pd.ExcelFile(\"Temp-3.xlsx\")\n",
    "#i got the names of the values i need to calculate\n",
    "to_calc=['M9Glc','M9','M8','M7','M6','M5','M4','M3','FM','HYBRID','FHYBRID','HexNAc(3)(x)','HexNAc(3)(F)(x)','HexNAc(4)(x)','HexNAc(4)(F)(x)'\n",
    ",'HexNAc(5)(x)','HexNAc(5)(F)(x)','HexNAc(6+)(x)','HexNAc(6+)(F)(x)','Unoccupied','Core']\n",
    "sheet_names=raw_df.sheet_names\n",
    "writer = pd.ExcelWriter(\"Temp-4.xlsx\", engine = 'xlsxwriter')\n",
    "\n",
    "for sheet_name in sheet_names:\n",
    "    print(sheet_name)\n",
    "    df=pd.read_excel(\"Temp-3.xlsx\",sheet_name=sheet_name)\n",
    "\n",
    "    for index,calc in enumerate(to_calc):\n",
    "        #i try to find if those names above(like M8) appear in the table and in which rows\n",
    "        matched_records=df[df['Classification'] == calc]\n",
    "        #if i do find 1 or more rows with it then i add them and assign it else its 0\n",
    "        if(not matched_records.empty):\n",
    "          value=matched_records['Percentage'].sum()\n",
    "          df.at[index,'Random Name']=calc\n",
    "          df.at[index,'Random value']=value\n",
    "        else:\n",
    "          df.at[index,'Random Name']=calc\n",
    "          df.at[index,'Random value']=0.00\n",
    "    df.to_excel(writer,sheet_name=sheet_name,index=False)\n",
    "    \n",
    "writer.save()\n",
    "writer.close()\n",
    "print(\"Completed\")"
   ]
  },
  {
   "cell_type": "markdown",
   "metadata": {
    "id": "-QG3B_y54VM_"
   },
   "source": [
    "Calculating Stuff like Fucose (Temp-5.xlsx)"
   ]
  },
  {
   "cell_type": "code",
   "execution_count": null,
   "metadata": {
    "colab": {
     "base_uri": "https://localhost:8080/"
    },
    "id": "UTDgN6fvhoNF",
    "outputId": "0d5035ee-798b-497d-e5d8-0c79fdc66a5f"
   },
   "outputs": [],
   "source": [
    "import pandas as pd\n",
    "raw_df=pd.ExcelFile(\"Temp-4.xlsx\")\n",
    "#name of the things to calculate\n",
    "to_calc=['Oligomannose','Hybrid','Complex','Unoccupied','Core','Fucose','NeuAc/NeuGc']\n",
    "sheet_names=raw_df.sheet_names\n",
    "writer = pd.ExcelWriter(\"Temp-5.xlsx\", engine = 'xlsxwriter')\n",
    "\n",
    "for sheet_name in sheet_names:\n",
    "    print(sheet_name)\n",
    "    df=pd.read_excel(\"Temp-4.xlsx\",sheet_name=sheet_name)\n",
    "    #from oligomannose to core the calculation is done based on the row index\n",
    "    #as i know from which row i need to get the values\n",
    "    oli=df.iloc[1:9]['Random value'].sum()\n",
    "    df.at[0,'Oligomannose']=oli\n",
    "    hybrid=df.iloc[9:11]['Random value'].sum()\n",
    "    #print(hybrid)\n",
    "    df.at[0,'Hybrid']=hybrid\n",
    "    comple=df.iloc[11:19]['Random value'].sum()\n",
    "    df.at[0,'Complex']=comple\n",
    "    unocc=df.iloc[19]['Random value']\n",
    "    df.at[0,'Unoccupied']=unocc\n",
    "    core=df.iloc[20]['Random value']\n",
    "    df.at[0,'Core']=core\n",
    "\n",
    "    #for Fucose i just try to find \"F\" in the string and if it exist i add it to total\n",
    "    total=0\n",
    "    for i,rows in df.iterrows():\n",
    "        if(str(rows['Random Name']).find(\"F\") != -1):\n",
    "          total+=rows['Random value']\n",
    "    df.at[0,'Fucose']=total\n",
    "\n",
    "    #for Neu i do the same but with those keywords and an OR operator\n",
    "    total=0\n",
    "    for i,rows in df.iterrows():\n",
    "        if((str(rows['Glycans']).find(\"NeuAc\") != -1) or (str(rows['Glycans']).find(\"NeuGc\") != -1)):\n",
    "          print(i)\n",
    "          total+=rows['Percentage']\n",
    "    df.at[0,'NeuAc/NeuGc']=total\n",
    "    df.to_excel(writer,sheet_name=sheet_name,index=False)\n",
    "    \n",
    "writer.save()\n",
    "writer.close()\n",
    "print(\"Completed\")"
   ]
  },
  {
   "cell_type": "markdown",
   "metadata": {
    "id": "UrzLSKFX49JJ"
   },
   "source": [
    "Rename Sheet names (raw_data_analysed.xlsm)"
   ]
  },
  {
   "cell_type": "code",
   "execution_count": null,
   "metadata": {
    "colab": {
     "base_uri": "https://localhost:8080/"
    },
    "id": "JBEvahXWw8Yx",
    "outputId": "5ab6ebfa-4569-4c8b-84c0-383f40f55538"
   },
   "outputs": [],
   "source": [
    "import pandas as pd\n",
    "df=pd.ExcelFile(\"Temp-5.xlsx\")\n",
    "sheet_names=df.sheet_names\n",
    "new_col_name_df=pd.read_csv(\"SOSIP_pngs.csv\") # got the data read from the new name file\n",
    "writer = pd.ExcelWriter(\"raw_data_analysed.xlsx\", engine = 'xlsxwriter')\n",
    "\n",
    "for sheet_name in sheet_names:\n",
    "    print(sheet_name)\n",
    "    df=pd.read_excel(\"Temp-5.xlsx\",sheet_name=sheet_name)\n",
    "    #i checked sheet to see which Protein it is\n",
    "    pos=df.iloc[0]['Var. Pos._x000D_\\nProtein']\n",
    "    index=1\n",
    "    while(str(pos) == 'nan'): #this loop is only here if there is unocc at start hence it needs to go down to find valid Pos\n",
    "          pos=df.iloc[index]['Var. Pos._x000D_\\nProtein']\n",
    "          if(str(pos) != 'nan'): #basically \"nan\" in pandas means blank cell\n",
    "            break\n",
    "\n",
    "    #i check the pos against the new name file and then assgin it\n",
    "    found_row=new_col_name_df[new_col_name_df['Pos'] == pos]\n",
    "    if(found_row.iloc[0]['Hxb2 Env coords'].find(\"N\") == -1):\n",
    "      #if the new sheet name has N then i wont add N else i will\n",
    "      sheet_name=\"N\"+found_row.iloc[0]['Hxb2 Env coords']\n",
    "    else:\n",
    "      sheet_name=found_row.iloc[0]['Hxb2 Env coords']\n",
    "    df.to_excel(writer,sheet_name=sheet_name,index=False)\n",
    "\n",
    "writer.save()\n",
    "writer.close()\n",
    "print(\"COmpleted\")"
   ]
  },
  {
   "cell_type": "code",
   "execution_count": null,
   "metadata": {
    "id": "qjm_0xFfyhMy"
   },
   "outputs": [],
   "source": []
  }
 ],
 "metadata": {
  "colab": {
   "collapsed_sections": [],
   "name": "Dataframe-manp.ipynb",
   "provenance": []
  },
  "kernelspec": {
   "display_name": "Python 3",
   "language": "python",
   "name": "python3"
  },
  "language_info": {
   "codemirror_mode": {
    "name": "ipython",
    "version": 3
   },
   "file_extension": ".py",
   "mimetype": "text/x-python",
   "name": "python",
   "nbconvert_exporter": "python",
   "pygments_lexer": "ipython3",
   "version": "3.8.8"
  }
 },
 "nbformat": 4,
 "nbformat_minor": 4
}